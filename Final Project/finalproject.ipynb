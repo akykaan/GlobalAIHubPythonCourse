{
 "cells": [
  {
   "cell_type": "code",
   "execution_count": 24,
   "id": "effective-dining",
   "metadata": {},
   "outputs": [
    {
     "name": "stdout",
     "output_type": "stream",
     "text": [
      "Lütfen soruları ilk harf büyük olacak şekilde cevaplayınız örn: İstanbul, Büyükşehir belediyesi\n",
      "Türkiyenin başkenti neresidir?\n"
     ]
    },
    {
     "name": "stdin",
     "output_type": "stream",
     "text": [
      "Lütfen soruyu cevaplayınız: an kara\n"
     ]
    },
    {
     "name": "stdout",
     "output_type": "stream",
     "text": [
      "Questions: An kara\n",
      "Answer: An kara\n",
      "girdi\n",
      "Nokia telefon markası hangi ülkeye aittir?\n"
     ]
    },
    {
     "name": "stdin",
     "output_type": "stream",
     "text": [
      "Lütfen soruyu cevaplayınız: FİNLANDİYA\n"
     ]
    },
    {
     "name": "stdout",
     "output_type": "stream",
     "text": [
      "Questions: Finlandiya\n",
      "Answer: Finlandiya\n",
      "girdi\n",
      "2\n",
      "Unsuccessful\n",
      "20\n"
     ]
    }
   ],
   "source": [
    "questions={\n",
    "    \"Türkiyenin başkenti neresidir?\":\"An kara\",\n",
    "    \"Nokia telefon markası hangi ülkeye aittir?\":\"Finlandiya\"    \n",
    "}\n",
    "correctAnswers=0\n",
    "answers=[]\n",
    "correctCount=0\n",
    "print(\"Lütfen soruları ilk harf büyük olacak şekilde cevaplayınız örn: İstanbul, Büyükşehir belediyesi\")\n",
    "for i in questions:\n",
    "    print(i)\n",
    "    answers=input(\"Lütfen soruyu cevaplayınız:\")\n",
    "    word = answers.maketrans(\"İI\", \"iı\")\n",
    "    answers = answers.translate(word).capitalize()\n",
    "    if answers==questions[i]: # key--> questions value--> questions[i]\n",
    "        correctAnswers+=10\n",
    "        correctCount+=1\n",
    "if correctCount>5:\n",
    "    print(\"Successful\")\n",
    "elif correctCount<=5:\n",
    "    print(\"Unsuccessful\")\n",
    "print(correctAnswers)"
   ]
  },
  {
   "cell_type": "code",
   "execution_count": 5,
   "id": "vertical-mobile",
   "metadata": {},
   "outputs": [
    {
     "ename": "SyntaxError",
     "evalue": "illegal target for annotation (<ipython-input-5-d43fd8047d9b>, line 1)",
     "output_type": "error",
     "traceback": [
      "\u001b[1;36m  File \u001b[1;32m\"<ipython-input-5-d43fd8047d9b>\"\u001b[1;36m, line \u001b[1;32m1\u001b[0m\n\u001b[1;33m    \"Suçluların yakalanmasında kullanılan en önemli delillerden biridir, suçlunun geride bıraktığı iz?\":\"Parmak izi\",\u001b[0m\n\u001b[1;37m    ^\u001b[0m\n\u001b[1;31mSyntaxError\u001b[0m\u001b[1;31m:\u001b[0m illegal target for annotation\n"
     ]
    }
   ],
   "source": [
    "for k, v in questions.items():\n",
    "        if(answers==v):"
   ]
  },
  {
   "cell_type": "code",
   "execution_count": 29,
   "id": "external-prison",
   "metadata": {
    "tags": []
   },
   "outputs": [
    {
     "name": "stdout",
     "output_type": "stream",
     "text": [
      "Found!\n"
     ]
    }
   ],
   "source": [
    "fullstring = \"StackAbuse\"\n",
    "substring = \"tack\"\n",
    "\n",
    "if substring in fullstring:\n",
    "    print(\"Found!\")\n",
    "else:\n",
    "    print (\"Not found!\")"
   ]
  },
  {
   "cell_type": "code",
   "execution_count": 6,
   "id": "complex-supply",
   "metadata": {},
   "outputs": [
    {
     "name": "stdout",
     "output_type": "stream",
     "text": [
      "Finlandiya,şanlıurfa,kemalpaşa tatlısı,bam teli,klima\n"
     ]
    }
   ],
   "source": [
    "\"Tarihin sıfır noktası olarak bilinen, insanlık tarihinin ilk somut kalıntılarının bulunduğu Göbekli tepe hangi ilimizdedir?\":\"Şanlıurfa\",\n",
    "    \"Suçluların yakalanmasında kullanılan en önemli delillerden biridir, suçlunun geride bıraktığı iz?\":\"Parmak izi\",\n",
    "    \"Bursa'nın en ünlü tatlısıdır, Bursa'nın bir ilçesiyle aynı adı taşır?\":\"Kemalpaşa tatlısı\",\n",
    "    \"Haberleşmenin eski dildeki adı nedir?\":\"Muhabere\",\n",
    "    \"Osmanlıda şehzadelerin özel hocası, eğitmenlerine verilen isim nedir?\":\"Lala\",\n",
    "    \"Belli bir süre eğitimi tamamladıktan sonra alınan, sir okul ya da eğitim kurumu tarafından verilen belgenin adı?\":\"Diploma\",\n",
    "    \"Evlerde, ofislerde ısıtma ve serinlemede kullanılan iklimlendirme araçlarına verilen ortak isim?\":\"Klima\",\n",
    "    \"Telli çalgılarda sazların en kalın teli\":\"Bam teli\","
   ]
  }
 ],
 "metadata": {
  "kernelspec": {
   "display_name": "Python 3",
   "language": "python",
   "name": "python3"
  },
  "language_info": {
   "codemirror_mode": {
    "name": "ipython",
    "version": 3
   },
   "file_extension": ".py",
   "mimetype": "text/x-python",
   "name": "python",
   "nbconvert_exporter": "python",
   "pygments_lexer": "ipython3",
   "version": "3.9.0"
  }
 },
 "nbformat": 4,
 "nbformat_minor": 5
}
