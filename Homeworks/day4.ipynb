{
 "cells": [
  {
   "cell_type": "code",
   "execution_count": 12,
   "id": "operational-gates",
   "metadata": {
    "tags": []
   },
   "outputs": [
    {
     "name": "stdin",
     "output_type": "stream",
     "text": [
      "Enter the username: a\n",
      "Enter the midterm: 50\n",
      "Enter the project: 50\n",
      "Enter the final: 50\n",
      "Enter the username: b\n",
      "Enter the midterm: 10\n",
      "Enter the project: 10\n",
      "Enter the final: 10\n",
      "Enter the username: c\n",
      "Enter the midterm: 40\n",
      "Enter the project: 40\n",
      "Enter the final: 40\n",
      "Enter the username: d\n",
      "Enter the midterm: 20\n",
      "Enter the project: 20\n",
      "Enter the final: 20\n",
      "Enter the username: e\n",
      "Enter the midterm: 30\n",
      "Enter the project: 30\n",
      "Enter the final: 30\n"
     ]
    },
    {
     "name": "stdout",
     "output_type": "stream",
     "text": [
      "{'a': 50.0, 'b': 10.0, 'c': 40.0, 'd': 20.0, 'e': 30.0}\n",
      "[('a', 50.0), ('c', 40.0), ('e', 30.0), ('d', 20.0), ('b', 10.0)]\n"
     ]
    }
   ],
   "source": [
    "import operator\n",
    "notes={}\n",
    "list=[]\n",
    "for i in range(0,5,1):\n",
    "    userName= input(\"Enter the username:\")\n",
    "    midterm = int(input(\"Enter the midterm:\"))\n",
    "    project = int(input(\"Enter the project:\"))\n",
    "    final   = int(input(\"Enter the final:\"))\n",
    "    passingGrade=midterm*(0.3)+project*(0.3)+final*(0.4)\n",
    "    notes[userName]=passingGrade\n",
    "\n",
    "print(notes)\n",
    "list=sorted(notes.items(),reverse=True,key=operator.itemgetter(1))\n",
    "print(list)"
   ]
  },
  {
   "cell_type": "code",
   "execution_count": null,
   "id": "fewer-switch",
   "metadata": {},
   "outputs": [],
   "source": []
  },
  {
   "cell_type": "code",
   "execution_count": null,
   "id": "wound-cincinnati",
   "metadata": {},
   "outputs": [],
   "source": []
  }
 ],
 "metadata": {
  "kernelspec": {
   "display_name": "Python 3",
   "language": "python",
   "name": "python3"
  },
  "language_info": {
   "codemirror_mode": {
    "name": "ipython",
    "version": 3
   },
   "file_extension": ".py",
   "mimetype": "text/x-python",
   "name": "python",
   "nbconvert_exporter": "python",
   "pygments_lexer": "ipython3",
   "version": "3.9.0"
  }
 },
 "nbformat": 4,
 "nbformat_minor": 5
}
