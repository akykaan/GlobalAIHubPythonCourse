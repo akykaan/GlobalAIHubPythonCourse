{
 "cells": [
  {
   "cell_type": "code",
   "execution_count": 4,
   "id": "passing-baltimore",
   "metadata": {},
   "outputs": [
    {
     "name": "stdout",
     "output_type": "stream",
     "text": [
      "[61, 96, 59, 6, 81, 59, 3, 36, 86, 13]\n",
      "[59, 3, 36, 86, 13, 61, 96, 59, 6, 81]\n"
     ]
    }
   ],
   "source": [
    "list=[]\n",
    "for i in range(0,10,1):\n",
    "    randomNumber=random.randint(1,100)\n",
    "    list.append(randomNumber)\n",
    "print(list)\n",
    "\n",
    "a=list[0:len(list)//2]\n",
    "b=list[len(list)//2:len(list)]\n",
    "\n",
    "a,b=b,a\n",
    "c=a+b\n",
    "print(c)\n"
   ]
  },
  {
   "cell_type": "code",
   "execution_count": 12,
   "id": "bottom-treasurer",
   "metadata": {},
   "outputs": [
    {
     "name": "stdin",
     "output_type": "stream",
     "text": [
      "Enter the single digit number please:  20\n"
     ]
    },
    {
     "name": "stdout",
     "output_type": "stream",
     "text": [
      "0\n",
      "2\n",
      "4\n",
      "6\n",
      "8\n",
      "10\n",
      "12\n",
      "14\n",
      "16\n",
      "18\n"
     ]
    }
   ],
   "source": [
    "n=int(input(\"Enter the single digit number please: \"))\n",
    "for i in range(0,n,2):\n",
    "    print(i)"
   ]
  }
 ],
 "metadata": {
  "kernelspec": {
   "display_name": "Python 3",
   "language": "python",
   "name": "python3"
  },
  "language_info": {
   "codemirror_mode": {
    "name": "ipython",
    "version": 3
   },
   "file_extension": ".py",
   "mimetype": "text/x-python",
   "name": "python",
   "nbconvert_exporter": "python",
   "pygments_lexer": "ipython3",
   "version": "3.9.0"
  }
 },
 "nbformat": 4,
 "nbformat_minor": 5
}
