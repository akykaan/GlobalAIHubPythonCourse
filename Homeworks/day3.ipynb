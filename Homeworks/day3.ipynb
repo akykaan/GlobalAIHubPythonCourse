{
 "cells": [
  {
   "cell_type": "code",
   "execution_count": 11,
   "id": "martial-attitude",
   "metadata": {},
   "outputs": [
    {
     "name": "stdin",
     "output_type": "stream",
     "text": [
      "enter the username: admin\n",
      "enter the password: 12345\n"
     ]
    },
    {
     "name": "stdout",
     "output_type": "stream",
     "text": [
      "Successful\n"
     ]
    }
   ],
   "source": [
    "userName=input(\"enter the username:\")\n",
    "password=input(\"enter the password:\")\n",
    "\n",
    "if(userName==\"admin\" and password==\"12345\"):\n",
    "    print(\"Successful\")\n",
    "else:\n",
    "    print(\"Username or password is wrong\")\n",
    "\n"
   ]
  },
  {
   "cell_type": "code",
   "execution_count": 13,
   "id": "photographic-transition",
   "metadata": {},
   "outputs": [
    {
     "name": "stdin",
     "output_type": "stream",
     "text": [
      "enter the username: admin\n",
      "enter the password: alskşdlasd23123!'^!'\n"
     ]
    },
    {
     "name": "stdout",
     "output_type": "stream",
     "text": [
      "Username or password is wrong\n"
     ]
    }
   ],
   "source": [
    "userName=input(\"enter the username:\")\n",
    "password=input(\"enter the password:\")\n",
    "users={\"admin\":\"1234\",\"moderator\":\"4321\"}\n",
    "\n",
    "if(userName in users and password in users.get(userName) ):\n",
    "    print(\"Successful\")\n",
    "else:\n",
    "    print(\"Username or password is wrong\")\n"
   ]
  },
  {
   "cell_type": "code",
   "execution_count": null,
   "id": "heated-found",
   "metadata": {},
   "outputs": [],
   "source": []
  }
 ],
 "metadata": {
  "kernelspec": {
   "display_name": "Python 3",
   "language": "python",
   "name": "python3"
  },
  "language_info": {
   "codemirror_mode": {
    "name": "ipython",
    "version": 3
   },
   "file_extension": ".py",
   "mimetype": "text/x-python",
   "name": "python",
   "nbconvert_exporter": "python",
   "pygments_lexer": "ipython3",
   "version": "3.9.0"
  }
 },
 "nbformat": 4,
 "nbformat_minor": 5
}
